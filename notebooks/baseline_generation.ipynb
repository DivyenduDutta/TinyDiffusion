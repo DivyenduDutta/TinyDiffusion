{
 "cells": [
  {
   "cell_type": "markdown",
   "id": "0",
   "metadata": {},
   "source": [
    "Choosing to use a LoRA / Distilled model because its lighter, faster, lower VRAM, easier for experimentation, perfect for a baseline and for quantization/optimization later."
   ]
  },
  {
   "cell_type": "code",
   "execution_count": null,
   "id": "1",
   "metadata": {},
   "outputs": [],
   "source": [
    "import os\n",
    "import torch\n",
    "from diffusers import StableDiffusionPipeline\n",
    "import time\n",
    "import statistics\n",
    "import psutil"
   ]
  },
  {
   "cell_type": "code",
   "execution_count": null,
   "id": "2",
   "metadata": {},
   "outputs": [],
   "source": [
    "device = \"cuda\" if torch.cuda.is_available() else \"cpu\"\n",
    "print(f\"Using device: {device}\")"
   ]
  },
  {
   "cell_type": "markdown",
   "id": "3",
   "metadata": {},
   "source": [
    "Load a lightweight/distilled Stable Diffusion model (LoRA or small variant)"
   ]
  },
  {
   "cell_type": "code",
   "execution_count": null,
   "id": "4",
   "metadata": {},
   "outputs": [],
   "source": [
    "ROOT_DIR = os.path.dirname(os.getcwd())\n",
    "print(f\"Root directory: {ROOT_DIR}\")"
   ]
  },
  {
   "cell_type": "code",
   "execution_count": null,
   "id": "5",
   "metadata": {},
   "outputs": [],
   "source": [
    "# Example: \"stabilityai/stable-diffusion-2-base\" is smaller than SD 1.5 full\n",
    "model_cache_dir = os.path.join(ROOT_DIR, \"checkpoints\", \"stablediffusion\")\n",
    "model_id = \"stabilityai/stable-diffusion-2-base\"  # This is not LoRA checkpoint"
   ]
  },
  {
   "cell_type": "markdown",
   "id": "6",
   "metadata": {},
   "source": [
    "Below we load the fp16 variant (as opposed to downloading the fp32 variant and then converting to fp16). [Ref](https://huggingface.co/docs/diffusers/en/using-diffusers/loading#:~:text=There%20are%20two%20important%20arguments%20for%20loading%20variants%3A)"
   ]
  },
  {
   "cell_type": "code",
   "execution_count": null,
   "id": "7",
   "metadata": {},
   "outputs": [],
   "source": [
    "# Load pipeline\n",
    "pipe = StableDiffusionPipeline.from_pretrained(\n",
    "    model_id,\n",
    "    cache_dir=model_cache_dir,\n",
    "    variant=\"fp16\",\n",
    "    torch_dtype=torch.float16 if device==\"cuda\" else torch.float32\n",
    ")\n",
    "pipe = pipe.to(device)"
   ]
  },
  {
   "cell_type": "code",
   "execution_count": null,
   "id": "8",
   "metadata": {},
   "outputs": [],
   "source": [
    "# Enable memory-efficient attention for faster & less VRAM usage\n",
    "pipe.enable_attention_slicing()"
   ]
  },
  {
   "cell_type": "code",
   "execution_count": null,
   "id": "9",
   "metadata": {},
   "outputs": [],
   "source": [
    "# Metrics\n",
    "inference_time = []\n",
    "cpu_mem_usage = []\n",
    "gpu_mem_usage = []"
   ]
  },
  {
   "cell_type": "code",
   "execution_count": null,
   "id": "10",
   "metadata": {},
   "outputs": [],
   "source": [
    "prompt = \"A whale falling through a starry sky beside a floating bowl of petunias, painted in a surreal \" \\\n",
    "         \"cosmic landscape, whimsical and dreamlike, detailed digital art.\"\n",
    "num_samples = 10\n",
    "\n",
    "process = psutil.Process(os.getpid())\n",
    "\n",
    "GEN_IMG_SAVE_PATH = os.path.join(os.path.dirname(os.getcwd()), \"results\", \"generated_images\")\n",
    "os.makedirs(GEN_IMG_SAVE_PATH, exist_ok=True)\n",
    "\n",
    "print(f\"Generating images. Will be saved to: {GEN_IMG_SAVE_PATH}\")\n",
    "\n",
    "for i in range(num_samples):\n",
    "    start_time = time.time()\n",
    "    image = pipe(prompt, guidance_scale=7.5, num_inference_steps=50).images[0]\n",
    "    end_time = time.time()\n",
    "    inference_time.append(end_time - start_time)\n",
    "\n",
    "    # Memory usage - START\n",
    "    cpu_mem = process.memory_info().rss / (1024**2)  # MB\n",
    "    cpu_mem_usage.append(cpu_mem)\n",
    "\n",
    "    if device == \"cuda\":\n",
    "        gpu_mem = torch.cuda.memory_allocated(0) / (1024**2)  # MB\n",
    "        gpu_mem_usage.append(gpu_mem)\n",
    "    # Memory usage - END\n",
    "\n",
    "    print(f\"Saved sample_{i}.png | Inference time: {(end_time - start_time):.2f}s\")\n",
    "    image.save(os.path.join(GEN_IMG_SAVE_PATH, f\"sample_{i}.png\"))\n",
    "    print(f\"Saved sample_{i}.png\")\n",
    "\n",
    "print(f\"\\nAverage inference time: {statistics.mean(inference_time):.2f}s ± {statistics.stdev(inference_time):.2f}s\")\n",
    "print(f\"\\nAverage CPU memory usage: {statistics.mean(cpu_mem_usage):.2f}MB ± {statistics.stdev(cpu_mem_usage):.2f}MB\")\n",
    "if device == \"cuda\":\n",
    "    print(f\"\\nAverage GPU memory usage: {statistics.mean(gpu_mem_usage):.2f}MB ± {statistics.stdev(gpu_mem_usage):.2f}MB\")"
   ]
  },
  {
   "cell_type": "code",
   "execution_count": null,
   "id": "11",
   "metadata": {},
   "outputs": [],
   "source": []
  }
 ],
 "metadata": {
  "kernelspec": {
   "display_name": "tiny-diffusion",
   "language": "python",
   "name": "python3"
  },
  "language_info": {
   "codemirror_mode": {
    "name": "ipython",
    "version": 3
   },
   "file_extension": ".py",
   "mimetype": "text/x-python",
   "name": "python",
   "nbconvert_exporter": "python",
   "pygments_lexer": "ipython3",
   "version": "3.11.13"
  }
 },
 "nbformat": 4,
 "nbformat_minor": 5
}
